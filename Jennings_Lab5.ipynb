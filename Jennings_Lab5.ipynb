{
 "cells": [
  {
   "cell_type": "markdown",
   "metadata": {},
   "source": [
    "# Lab 5\n",
    "## A review of ***fun***damentals\n",
    "\n",
    "I know it feels fast, but we're already halfway through our coursework this quarter. In fact, after this lab we only have one more lab (a multipart one) and then a bonus lab (to help you make up any points you might have lost as we barreled onwards).\n",
    "\n",
    "As such, we're going to take a bit of a breather this week. We'll focus on some of the **core** ideas of thinking computationally - iteration, flow control, etc. But... *we'll do so through a version of a classic programming problem*.\n",
    "\n",
    "Additionally, there will be a bit of housekeeping to help you prepare for the coming weeks (namely a check to make sure you have ArcPro and the Arc GIS API for Python working).\n",
    "\n",
    "Let's start having ***fun*** shall we?*\n",
    "\n",
    "*(For those wondering, this lab is written in python 3.6)*"
   ]
  },
  {
   "cell_type": "markdown",
   "metadata": {},
   "source": [
    "### Question One - Drunken Walk\n",
    "\n",
    "\n",
    "Gosh, I just love those turtles. \n",
    "More seriously, I appreciate vector graphics on a (bounded) plane. So let's get underway, shall we?\n",
    "\n",
    "Oh noes. Our favorite turtle has drunk too much watching his favorite NFL team (the Patriots, obviously; alternatively, if you prefer, our poor turtle can be a time-displaced fan of the [Hartford Whalers](https://www.youtube.com/watch?v=TJtiepwpKFw)).\n",
    "\n",
    "It is now time for our turtle to (attempt to) stumble home. To do so, you're going to work your way through a version of a classic [random walk](https://en.wikipedia.org/wiki/Random_walk). **I will stress this several times throughout, but: there are many ways to approach this problem, you should focus on the one that *makes sense to you***.\n",
    "\n",
    "You are going to write a 'simulation' in which our 'turtle' takes up to 500 steps to try to reach home, but does so by following a 'random(ish)' pattern. This isn't a _true_ random walk due to the constraints I am placing, but it will still force you to think through the same ideas (and a few extras!). It's also worth noting it's very unlikely the poor turtle will find their way home within 1,000 steps.\n",
    "\n",
    "You need to write a script that:\n",
    "1. Your 'turtle' begins at (-122, 47)\n",
    "2. Your 'turtle's' home is (-71, 42)\n",
    "\n",
    "3. Your 'turtle' moves randomly following these rules: The turtle moves **one** step in a **randomly** selected direction. In other words, the initial direction is selected randomly; subsequently, the turtle **randomly** selects to turn to the left 90 degrees, to the right 90 degrees, or continue in the direction last followed and takes another step.\n",
    "\n",
    "4. The plane is bounded. The walls are at (-180, Y), (180, Y); (X, 90), (X, -90). You can probably guess why, huh?\n",
    "5. If your turtle walks into the 'wall,' they immediately 'bounce' five pixels backwards and turn around 180 degrees. It then begins walking again. \n",
    "\n",
    "7. After 500 steps **or** arriving at (-71, 42), the walk is over (morning has broken). \n",
    "\n",
    "8. After the walk, you'll want to know: where the turtle ended up (final location); how far that location is from where it began; how far the turtle is from 'home' (you can use straight line distance here). Print these out.\n",
    "\n",
    "Now, you do not have to create your own functions and classes for this; however, I strongly recommend it (as things will get more complicated we we go on). "
   ]
  },
  {
   "cell_type": "code",
   "execution_count": 1,
   "metadata": {},
   "outputs": [
    {
     "name": "stdout",
     "output_type": "stream",
     "text": [
      "Bob passed out at (-158.00,31.00)\n",
      "Bob was 87.7 pixels from home.\n",
      "He made it 205.6 pixels from the bar in 500 steps.\n",
      "\n",
      "Goodnight, Bob.\n"
     ]
    }
   ],
   "source": [
    "import turtle\n",
    "import random\n",
    "import math\n",
    "\n",
    "#First, some ground rules\n",
    "upx = 180\n",
    "downx = -180\n",
    "\n",
    "upy = 90\n",
    "downy = -90\n",
    "\n",
    "startx = -122\n",
    "starty = 47\n",
    "\n",
    "endx = -71\n",
    "endy = 42\n",
    "\n",
    "count = 0\n",
    "\n",
    "#Housekeeping: open screen canvas, define size, set start point\n",
    "wn = turtle.Screen()\n",
    "wn.setup(width=720, height=360)  #this sets screen border at double the world coordinates so 1 space is more apparent\n",
    "wn.reset()\n",
    "wn.setworldcoordinates(downx, downy, upx, upy) #set bounding coordinates for window, same as plane bounding\n",
    "\n",
    "#set window title and color\n",
    "wn.title('Godspeed, little buddy.')\n",
    "wn.bgcolor('black') #because it is nighttime and whatnot.\n",
    "\n",
    "#Set up turtle\n",
    "bob = turtle.Turtle()\n",
    "bob.pu()\n",
    "\n",
    "#Mark home, just for reference.\n",
    "bob.goto(endx, endy)\n",
    "bob.color('red')\n",
    "bob.shape('square')\n",
    "bob.pd()\n",
    "bob.stamp()\n",
    "bob.shape('triangle')\n",
    "bob.left(90)\n",
    "bob.forward(8)\n",
    "bob.stamp()\n",
    "bob.pu()\n",
    "\n",
    "#Now, to the bar!\n",
    "bob.goto(startx, starty)\n",
    "bob.shape('turtle')\n",
    "bob.color('green')\n",
    "bob.pd()\n",
    "\n",
    "\n",
    "#Set function to correct if out of bounds\n",
    "def outBound(turtle):\n",
    "    if (turtle.xcor() == upx):\n",
    "        turtle.setx(turtle.xcor() - 5)\n",
    "        turtle.left(180)\n",
    "    if (turtle.xcor() == downx):\n",
    "        turtle.setx(turtle.xcor() + 5)\n",
    "        turtle.left(180)   \n",
    "    if (turtle.xcor() == upy):\n",
    "        turtle.sety(turtle.ycor() - 5)\n",
    "        turtle.left(180)\n",
    "    if (turtle.xcor() == downy):\n",
    "        turtle.sety(turtle.ycor() + 5)\n",
    "        turtle.left(180)   \n",
    "\n",
    "#Pythagorean theorem to calculate linear distance based on dx, dy\n",
    "def Distance(turtle, x, y):\n",
    "    return math.sqrt(((x - turtle.xcor())**2)+(y - turtle.ycor())**2)\n",
    "\n",
    "#Set function to determine direction to move\n",
    "def getDir(turtle):\n",
    "    rand = random.randint(0,2)\n",
    "    if (rand == 0):\n",
    "        turtle.left(0)\n",
    "    elif (rand == 1):\n",
    "        turtle.left(90)\n",
    "    elif (rand == 2):\n",
    "        turtle.right(90)\n",
    "\n",
    "#Choose a reandom direction to start(N, S, E, or W)\n",
    "rand = random.randint(0,3)\n",
    "startdir = rand*90\n",
    "bob.left(startdir)\n",
    "bob.fd(1)\n",
    "count = count+1\n",
    "\n",
    "#Iterate through 500 times and check location, if not home choose random direction and try again.\n",
    "for i in range(499):\n",
    "    if (bob.position() == (endx, endy)):   # I was never able to actually test if this worked, could also use distance function\n",
    "        print ('Bob made it home!')\n",
    "        break\n",
    "    else:\n",
    "        getDir(bob)\n",
    "        bob.fd(1)\n",
    "        outBound(bob)\n",
    "        count = count+1\n",
    "\n",
    "\n",
    "print('Bob passed out at', bob.pos())        \n",
    "print('Bob was', round(Distance(bob, endx, endy), 1), 'pixels from home.')\n",
    "print('He made it', round(Distance(bob, startx, starty), 1), 'pixels from the bar in', count, 'steps.\\n')\n",
    "print('Goodnight, Bob.')\n",
    "\n",
    "#End on click, if needed\n",
    "turtle.exitonclick()  \n",
    "\n",
    "\n"
   ]
  },
  {
   "cell_type": "markdown",
   "metadata": {},
   "source": [
    "### Question Two - Guided Walk\n",
    "\n",
    "\n",
    "You've probably noticed two things: \n",
    "1. Gosh, that takes a long time.\n",
    "2. The turtle is very unlikely to end up 'home'.\n",
    "\n",
    "That's **ok**, in fact, it's expected. Let's help our turtle out a bit by making things a little *less* random. We're going to change how our turtle moves in a couple of ways:\n",
    "\n",
    "1. The turtle now changes directions in 45 degree increments (so it turns left or right 45 instead of 90).\n",
    "2. The turtle now always moves in the 'right' direction, In other words, before taking each step, the turtle 'checks' to make sure they are not headed away from their home (the distance from 'home' is the same or less than their current location).\n",
    "\n",
    "How might you do this? There are a few approaches. I might create a function (or method) that compares proposed new location to previous location (checking distance and forcing a new step selection when needed). Remember, steps are *still chosen randomly*, the turtle just stumbles in the right direction.\n",
    "\n",
    "Note: There is an additional difficulty here where, by turning 45 degrees, the turtle is unable to ever *reach home exactly*. **For this problem, 'home' is considered anywhere within a distance of 1 from (-71, 42).** This should solve the problem.\n",
    "\n",
    "For this problem, at the end print out: the turtle's final location; the distance the turtle traveled; how many steps the turtle took."
   ]
  },
  {
   "cell_type": "code",
   "execution_count": 1,
   "metadata": {},
   "outputs": [
    {
     "name": "stdout",
     "output_type": "stream",
     "text": [
      "Bob made it home! \n",
      "\n",
      "Bob passed out at (-71.42,41.29)\n",
      "Bob was 1.0 pixels from home.\n",
      "He made it 119.0 pixels from the bar in 69 steps.\n",
      "\n",
      "Goodnight, Bob.\n"
     ]
    }
   ],
   "source": [
    "import turtle\n",
    "import random\n",
    "import math\n",
    "\n",
    "#First, some ground rules\n",
    "upx = 180\n",
    "downx = -180\n",
    "\n",
    "upy = 90\n",
    "downy = -90\n",
    "\n",
    "startx = -122\n",
    "starty = 47\n",
    "\n",
    "endx = -71\n",
    "endy = 42\n",
    "\n",
    "count = 0\n",
    "\n",
    "#Housekeeping: open screen canvas, define size, set start point\n",
    "wn = turtle.Screen()\n",
    "wn.setup(width=720, height=360)  #this sets screen border at double the world coordinates so 1 space is more apparent\n",
    "wn.reset()\n",
    "wn.setworldcoordinates(downx, downy, upx, upy) #set bounding coordinates for window, same as plane bounding\n",
    "\n",
    "#set window title and color\n",
    "wn.title('Godspeed, little buddy.')\n",
    "wn.bgcolor('black') #because it is nighttime and whatnot.\n",
    "\n",
    "#Set up turtle\n",
    "bob = turtle.Turtle()\n",
    "bob.pu()\n",
    "\n",
    "#Mark home, just for reference.\n",
    "bob.goto(endx, endy)\n",
    "bob.color('red')\n",
    "bob.shape('square')\n",
    "bob.pd()\n",
    "bob.stamp()\n",
    "bob.shape('triangle')\n",
    "bob.left(90)\n",
    "bob.forward(8)\n",
    "bob.stamp()\n",
    "bob.pu()\n",
    "\n",
    "#Now, to the bar!\n",
    "bob.goto(startx, starty)\n",
    "bob.shape('turtle')\n",
    "bob.color('green')\n",
    "bob.pd()\n",
    "\n",
    "\n",
    "#Set function to correct if out of bounds\n",
    "def outBound(turtle):\n",
    "    if (turtle.xcor() == upx):\n",
    "        turtle.setx(turtle.xcor() - 5)\n",
    "        turtle.left(180)\n",
    "    if (turtle.xcor() == downx):\n",
    "        turtle.setx(turtle.xcor() + 5)\n",
    "        turtle.left(180)   \n",
    "    if (turtle.xcor() == upy):\n",
    "        turtle.sety(turtle.ycor() - 5)\n",
    "        turtle.left(180)\n",
    "    if (turtle.xcor() == downy):\n",
    "        turtle.sety(turtle.ycor() + 5)\n",
    "        turtle.left(180)   \n",
    "\n",
    "#Pythagorean theorem to calculate linear distance based on dx, dy\n",
    "def Distance(turtle, x, y):\n",
    "    return math.sqrt(((x - turtle.xcor())**2)+(y - turtle.ycor())**2)\n",
    "\n",
    "#Set function to determine heading\n",
    "def getDir(turtle):\n",
    "    heading = 0\n",
    "    rand = random.randint(0,2)\n",
    "    if (rand == 0):\n",
    "        heading = 45\n",
    "        return heading\n",
    "    elif (rand == 1):\n",
    "        heading = -45\n",
    "        return heading\n",
    "    elif (rand == 2):\n",
    "        return heading\n",
    "    \n",
    "#Need a function to see if test move is closer to home\n",
    "def testMove(turtle, test, heading):\n",
    "    start = turtle.pos()\n",
    "    dist = Distance(turtle, endx, endy)\n",
    "    turtle.pu()\n",
    "    turtle.left(test)\n",
    "    turtle.fd(1)\n",
    "    testdist = Distance(turtle, endx, endy)\n",
    "    turtle.goto(start)\n",
    "    turtle.setheading(heading)\n",
    "    if (testdist < dist):\n",
    "        return True\n",
    "    else:\n",
    "        return False\n",
    "\n",
    "#Choose a reandom direction to start - now limited to E, SE, and S (0, 45, or 90 degrees right)\n",
    "rand = random.randint(0,2)\n",
    "startdir = rand*45\n",
    "bob.right(startdir)\n",
    "bob.fd(1)\n",
    "count = count+1\n",
    "\n",
    "#Iterate through 500 times and check location, if not home choose random direction and try again.\n",
    "for i in range(499):\n",
    "    check = Distance(bob, endx, endy)    \n",
    "    if (check < 1):  \n",
    "        print('Bob made it home! \\n')\n",
    "        break\n",
    "    else:\n",
    "        #Test move before actual move to see if closer to home\n",
    "        #The 'else' scenario in this loop 'wastes' an interation of i in range(499),\n",
    "        #but it takes nowhere near 500 to get home now, so I think it's ok.\n",
    "        dist = Distance(bob, endx, endy)\n",
    "        testheading = getDir(bob)\n",
    "        heading = bob.heading()\n",
    "        if (testMove(bob, testheading, heading) == True):\n",
    "            bob.pd()\n",
    "            bob.left(testheading)\n",
    "            bob.fd(1)\n",
    "            outBound(bob)\n",
    "            count = count+1\n",
    "\n",
    "print('Bob passed out at', bob.pos())        \n",
    "print('Bob was', round(Distance(bob, endx, endy), 0), 'pixels from home.')\n",
    "print('He made it', round(Distance(bob, starty, starty), 0), 'pixels from the bar in', count, 'steps.\\n')\n",
    "print('Goodnight, Bob.')\n",
    "\n",
    "#End on click, if needed\n",
    "turtle.exitonclick()  "
   ]
  },
  {
   "cell_type": "markdown",
   "metadata": {},
   "source": [
    "# Housekeeping\n",
    "## After this extremely important house keeping, there are some bonus questions.\n",
    "\n",
    "Next week, we take a dive into the ArcGIS API for Python. For all intents and purposes, it and ArcPro are the direction Esri is headed. ArcPy will likely continue to exist for a few more years (and so you need to know it *now*), but it's very clearly being phased out.\n",
    "\n",
    "You may have wondered why I so strongly encourated using Anaconda and Jupyter Notebooks; well, now you'll find out.\n",
    "By next week you need to have the ArcGIS API for Python working on your marchines. **By far**, the easiest way to do this is through Anaconda.\n",
    "\n",
    "You can [go to this page](https://developers.arcgis.com/python/guide/install-and-set-up/) for directions on how to set up the API; however, if you have conda installed, you can do so with the following command (in a virtual environment):\n",
    "\n",
    "`conda install -c esri arcgis`\n",
    "\n",
    "That's it.\n",
    "\n",
    "Once you have it installed, try the following two commands:"
   ]
  },
  {
   "cell_type": "code",
   "execution_count": 1,
   "metadata": {},
   "outputs": [
    {
     "name": "stdout",
     "output_type": "stream",
     "text": [
      "test\n"
     ]
    }
   ],
   "source": [
    "from arcgis.gis import GIS\n",
    "my_gis = GIS()\n",
    "my_gis.map()\n",
    "print('test')"
   ]
  },
  {
   "cell_type": "code",
   "execution_count": 4,
   "metadata": {},
   "outputs": [
    {
     "name": "stdout",
     "output_type": "stream",
     "text": [
      "Test Time!\n",
      "Logged in as jenninaj_MSGT\n"
     ]
    },
    {
     "data": {
      "text/html": [
       "<div class=\"item_container\" style=\"height: auto; overflow: hidden; border: 1px solid #cfcfcf; border-radius: 2px; background: #f6fafa; line-height: 1.21429em; padding: 10px;\">\n",
       "                    <div class=\"item_left\" style=\"width: 210px; float: left;\">\n",
       "                       <a href='https://uwt-gis-geotech.maps.arcgis.com/home/item.html?id=7bd3a2963fd04902ae84e1223796aff9' target='_blank'>\n",
       "                        <img src='data:image/png;base64,R0lGODlhBQAFAID/AMDAwAAAACH5BAEAAAAALAAAAAAFAAUAQAIEhI+pWAA7' width='200' height='133' class=\"itemThumbnail\">\n",
       "                       </a>\n",
       "                    </div>\n",
       "\n",
       "                    <div class=\"item_right\"     style=\"float: none; width: auto; overflow: hidden;\">\n",
       "                        <a href='https://uwt-gis-geotech.maps.arcgis.com/home/item.html?id=7bd3a2963fd04902ae84e1223796aff9' target='_blank'><b>Lake Water Quality Data Submission Tool_fieldworker</b>\n",
       "                        </a>\n",
       "                        <br/><img src='https://uwt-gis-geotech.maps.arcgis.com/home/js/jsapi/esri/css/images/item_type_icons/featureshosted16.png' style=\"vertical-align:middle;\">Feature Layer Collection by jenninaj_MSGT\n",
       "                        <br/>Last Modified: February 02, 2018\n",
       "                        <br/>0 comments, 0 views\n",
       "                    </div>\n",
       "                </div>\n",
       "                "
      ],
      "text/plain": [
       "<Item title:\"Lake Water Quality Data Submission Tool_fieldworker\" type:Feature Layer Collection owner:jenninaj_MSGT>"
      ]
     },
     "metadata": {},
     "output_type": "display_data"
    },
    {
     "data": {
      "text/html": [
       "<div class=\"item_container\" style=\"height: auto; overflow: hidden; border: 1px solid #cfcfcf; border-radius: 2px; background: #f6fafa; line-height: 1.21429em; padding: 10px;\">\n",
       "                    <div class=\"item_left\" style=\"width: 210px; float: left;\">\n",
       "                       <a href='https://uwt-gis-geotech.maps.arcgis.com/home/item.html?id=1cefa59e9559467a97dafaae88d8e230' target='_blank'>\n",
       "                        <img src='data:image/png;base64,iVBORw0KGgoAAAANSUhEUgAAAMgAAACFCAIAAACR/CB7AAAACXBIWXMAAA7EAAAOxAGVKw4bAAABuUlEQVR4nO3bMWrDQBBAUW3w/a+8aWI7dvA4AX8C5r1GxTYqPqthQGvvfcCrffz3C/CehEVCWCSERUJYJIRFQlgkhEVCWCSERUJYJIRFQlgkhEVCWCSERUJYJIRFQlgkhEVCWCR+GdY6jtW+CO/lNJ6um+e+tOWPMZ4Ywlr3l9S1q6UtZmYsEsIi8SisH9/B20OzPDM3FolHYe1pOt+H4Z2ZG4uEsEgMe6x93Yh+LUi/HcFo3ryfA9r3ZcFsDutCUvyNGYuEsEgIi4SwSAiLhLBICIuEsEgIi4SwSAiLhLBICIuEsEgIi4SwSAiLhLBICIuEsEgIi4SwSAiLhLBICIuEsEgIi4SwSAiLhLBICIuEsEgIi4SwSAiLhLBICIuEsEgIi4SwSAiLhLBICIuEsEgIi4SwSAiLhLBICIuEsEgIi4SwSAiLhLBICIuEsEgIi4SwSAiLhLBICIuEsEgIi4SwSAiLhLBICIuEsEgIi4SwSAiLhLBICIuEsEgIi4SwSAiLhLBICIuEsEgIi4SwSAiLhLBICIuEsEgIi4SwSAiLhLBICIuEsEgIi4SwSAiLhLBICIuEsEh8AhbUFBFCzORhAAAAAElFTkSuQmCC' width='200' height='133' class=\"itemThumbnail\">\n",
       "                       </a>\n",
       "                    </div>\n",
       "\n",
       "                    <div class=\"item_right\"     style=\"float: none; width: auto; overflow: hidden;\">\n",
       "                        <a href='https://uwt-gis-geotech.maps.arcgis.com/home/item.html?id=1cefa59e9559467a97dafaae88d8e230' target='_blank'><b>Lake Water Quality Data Submission Tool</b>\n",
       "                        </a>\n",
       "                        <br/><img src='https://uwt-gis-geotech.maps.arcgis.com/home/js/jsapi/esri/css/images/item_type_icons/featureshosted16.png' style=\"vertical-align:middle;\">Feature Layer Collection by jenninaj_MSGT\n",
       "                        <br/>Last Modified: February 09, 2018\n",
       "                        <br/>0 comments, 9 views\n",
       "                    </div>\n",
       "                </div>\n",
       "                "
      ],
      "text/plain": [
       "<Item title:\"Lake Water Quality Data Submission Tool\" type:Feature Layer Collection owner:jenninaj_MSGT>"
      ]
     },
     "metadata": {},
     "output_type": "display_data"
    },
    {
     "data": {
      "text/html": [
       "<div class=\"item_container\" style=\"height: auto; overflow: hidden; border: 1px solid #cfcfcf; border-radius: 2px; background: #f6fafa; line-height: 1.21429em; padding: 10px;\">\n",
       "                    <div class=\"item_left\" style=\"width: 210px; float: left;\">\n",
       "                       <a href='https://uwt-gis-geotech.maps.arcgis.com/home/item.html?id=d936e26d65ea4f7e82759c22a1e3263a' target='_blank'>\n",
       "                        <img src='data:image/png;base64,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' width='200' height='133' class=\"itemThumbnail\">\n",
       "                       </a>\n",
       "                    </div>\n",
       "\n",
       "                    <div class=\"item_right\"     style=\"float: none; width: auto; overflow: hidden;\">\n",
       "                        <a href='https://uwt-gis-geotech.maps.arcgis.com/home/item.html?id=d936e26d65ea4f7e82759c22a1e3263a' target='_blank'><b>Sasquatch</b>\n",
       "                        </a>\n",
       "                        <br/>This map presents point feature data representing Sasquatch sightings as reported to the Bigfoot Field Researchers Organization.  Sightings are classified into 3 categories, based on the reliablility of the.  Class A is the most reliable.<img src='https://uwt-gis-geotech.maps.arcgis.com/home/js/jsapi/esri/css/images/item_type_icons/featureshosted16.png' style=\"vertical-align:middle;\">Feature Layer Collection by jenninaj_MSGT\n",
       "                        <br/>Last Modified: January 20, 2018\n",
       "                        <br/>0 comments, 0 views\n",
       "                    </div>\n",
       "                </div>\n",
       "                "
      ],
      "text/plain": [
       "<Item title:\"Sasquatch\" type:Feature Layer Collection owner:jenninaj_MSGT>"
      ]
     },
     "metadata": {},
     "output_type": "display_data"
    },
    {
     "data": {
      "text/html": [
       "<div class=\"item_container\" style=\"height: auto; overflow: hidden; border: 1px solid #cfcfcf; border-radius: 2px; background: #f6fafa; line-height: 1.21429em; padding: 10px;\">\n",
       "                    <div class=\"item_left\" style=\"width: 210px; float: left;\">\n",
       "                       <a href='https://uwt-gis-geotech.maps.arcgis.com/home/item.html?id=fa4e627d9c8c42ae9483830397ee9e34' target='_blank'>\n",
       "                        <img src='data:image/png;base64,iVBORw0KGgoAAAANSUhEUgAAAMgAAACFCAIAAACR/CB7AAAACXBIWXMAAAAnAAAAJwEqCZFPAAABbElEQVR4nO3SwQ3AIBDAsNL9dz6WIEJC9gR5ZM3MB6f9twN4k7FIGIuEsUgYi4SxSBiLhLFIGIuEsUgYi4SxSBiLhLFIGIuEsUgYi4SxSBiLhLFIGIuEsUgYi4SxSBiLhLFIGIuEsUgYi4SxSBiLhLFIGIuEsUgYi4SxSBiLhLFIGIuEsUgYi4SxSBiLhLFIGIuEsUgYi4SxSBiLhLFIGIuEsUgYi4SxSBiLhLFIGIuEsUgYi4SxSBiLhLFIGIuEsUgYi4SxSBiLhLFIGIuEsUgYi4SxSBiLhLFIGIuEsUgYi4SxSBiLhLFIGIuEsUgYi4SxSBiLhLFIGIuEsUgYi4SxSBiLhLFIGIuEsUgYi4SxSBiLhLFIGIuEsUgYi4SxSBiLhLFIGIuEsUgYi4SxSBiLhLFIGIuEsUgYi4SxSBiLhLFIGIuEsUgYi4SxSBiLhLFIGIuEsUgYi4SxSBiLhLFIGIuEsUgYi4SxSGy4dQQHgizXSQAAAABJRU5ErkJggg==' width='200' height='133' class=\"itemThumbnail\">\n",
       "                       </a>\n",
       "                    </div>\n",
       "\n",
       "                    <div class=\"item_right\"     style=\"float: none; width: auto; overflow: hidden;\">\n",
       "                        <a href='https://uwt-gis-geotech.maps.arcgis.com/home/item.html?id=fa4e627d9c8c42ae9483830397ee9e34' target='_blank'><b>Volunteer_Lake_WQ_Data</b>\n",
       "                        </a>\n",
       "                        <br/>An application for recording water quality data for volunteer lake monitors in Washington State. <img src='https://uwt-gis-geotech.maps.arcgis.com/home/js/jsapi/esri/css/images/item_type_icons/featureshosted16.png' style=\"vertical-align:middle;\">Feature Layer Collection by jenninaj_MSGT\n",
       "                        <br/>Last Modified: February 02, 2018\n",
       "                        <br/>0 comments, 0 views\n",
       "                    </div>\n",
       "                </div>\n",
       "                "
      ],
      "text/plain": [
       "<Item title:\"Volunteer_Lake_WQ_Data\" type:Feature Layer Collection owner:jenninaj_MSGT>"
      ]
     },
     "metadata": {},
     "output_type": "display_data"
    }
   ],
   "source": [
    "from arcgis.gis import GIS\n",
    "\n",
    "print('Test Time!')\n",
    "gis = GIS('https://uwt-gis-geotech.maps.arcgis.com', 'jenninaj_MSGT', '{PASSWORD}') #your AGOL username and password go here\n",
    "print('Logged in as ' + str(gis.properties.user.username))\n",
    "\n",
    "mysearch = gis.content.search(query='owner: jenninaj_MSGT', item_type='Feature Layer') #your AGOL username goes here (I used Kevin's in this demo)\n",
    "for i in mysearch:\n",
    "    display(i)"
   ]
  },
  {
   "cell_type": "markdown",
   "metadata": {},
   "source": [
    "## If those two cells ran correctly, congratulations - you are ready for next week.\n",
    "\n",
    "# IF YOU UPLOAD A FILE WITH YOUR PASSWORD IN IT, YOU WILL LOSE 2 POINTS."
   ]
  },
  {
   "cell_type": "markdown",
   "metadata": {},
   "source": [
    "## Bonus Points\n",
    "\n",
    "Ok, for the record, having a vector 'draw' each step of a random walk is highly inefficient. You could just as easily create a mathematical matrix and have your 'turtle' move across that. Doing so would be much, much faster and allow for you to run simulations of 1,000+ steps thousands of times. \n",
    "\n",
    "Similarly, as you saw in the second part of the question (the guided turtle), you can put constraints on movement. These need not be distance related; instead, you might set it so certain locations were impassable or that the 'turtle' has to move along a given grid (such as streets).\n",
    "\n",
    "Aha, you might be thinking, this would be one way to model movement! And, indeed, you are correct.\n",
    "But, let's get to some more fun silliness for now.\n",
    "\n",
    "### Bonus Question 1 - Turtles on a Map (+1-3 pts)\n",
    "\n",
    "You might have guessed why the boundaries are set where they are, I was having you mimic latitude and longitude coordinates. You might note that I was doing so ***without*** allowing your turtle to wrap around the edges as would happen on an actual globe. We'll get to that in a moment.\n",
    "\n",
    "For now, let's just put our drunken turtle on a map.\n",
    "1. Transform your turtle's guided path (question 2) into a shapefile. (+1 pts)\n",
    "2. Display your turtle's guided path (question 2) on a leaflet map (use Folium, +2 pts)\n",
    "\n",
    "For part two, you might want to use geopandas to create and manipulate geoJSON (You would install geopandas and folium into the virtual environment you are using just like normal)."
   ]
  },
  {
   "cell_type": "code",
   "execution_count": null,
   "metadata": {},
   "outputs": [],
   "source": []
  },
  {
   "cell_type": "markdown",
   "metadata": {},
   "source": [
    "### Bonus Question 2 - A turtle road trip. (+2-4 pts)\n",
    "\n",
    "If you completed the previous bonus question, you've now realized that our drunken turtle friend is stumbling roughly from Tacoma to Boston. Now, let's see if our turtle stopped by any other major cities along the way.\n",
    "\n",
    "You'll find the file 500_cities.csv [in this repo](https://github.com/UWTMGIS/TGIS501_Files). It's a pretty straitforward list of 500 cities, their populations, and their (approximate) latitude and longitude location.\n",
    "\n",
    "You are going to create map that displays:\n",
    "1. The path that your turtle took on its guided wander (as a line)\n",
    "2. All cities in 500_cities.csv which your turtle came within 50 miles of **and** with populations over 10,000. (as a point file)\n",
    "\n",
    "In other words, your map will show the path your turtle took and all of the cities which meet the above requirements.\n",
    "Note: I specified a distance in miles, but everything was previously in lat/long. Make sure you handle this (projections matter!).\n",
    "\n",
    "+2 pts as a shapefile\n",
    "+4 pts as a leaflet slippy map (use Folium)\n"
   ]
  },
  {
   "cell_type": "code",
   "execution_count": null,
   "metadata": {},
   "outputs": [],
   "source": []
  }
 ],
 "metadata": {
  "kernelspec": {
   "display_name": "Python 3",
   "language": "python",
   "name": "python3"
  },
  "language_info": {
   "codemirror_mode": {
    "name": "ipython",
    "version": 3
   },
   "file_extension": ".py",
   "mimetype": "text/x-python",
   "name": "python",
   "nbconvert_exporter": "python",
   "pygments_lexer": "ipython3",
   "version": "3.6.4"
  },
  "widgets": {
   "state": {
    "cd6d045ca8c94f2b82e80bfcbcf19d62": {
     "views": [
      {
       "cell_index": 6
      }
     ]
    }
   },
   "version": "1.2.0"
  }
 },
 "nbformat": 4,
 "nbformat_minor": 2
}
