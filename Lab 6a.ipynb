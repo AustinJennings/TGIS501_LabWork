{
 "cells": [
  {
   "cell_type": "markdown",
   "metadata": {},
   "source": [
    "# Lab 6a\n",
    "## The Final Lab!\n",
    "\n",
    "I know it seems like only yesterday we were first writing \"import arcpy,\" but here we are. You've learned a lot along the way and now, in this final lab, I'm going to ask you to put it all together, try some new things, and *have fun* with your new skills. The lab comes in two parts 6a and 6b, which you'll get next week, and is due **March 1st** (so two weeks *after* you get part b).\n",
    "\n",
    "In part a, we'll be playing with APIs - namely the ArcGIS API and Twitter's Streaming API. We use Esri's because it is the direction they are taking their product and Twitter's because it is well established and well-documented. *Their use here is not an endorsement or signal of the meaning to be found in tweets or the mapping thereof.*"
   ]
  },
  {
   "cell_type": "markdown",
   "metadata": {},
   "source": [
    "### First, let's set up our environment\n",
    "\n",
    "Ultimately, you are going to make some interactive web maps of tweets for me. However, the exact means by which you do it is left up to you (i.e. will you use Folium or the ArcGIS API, perhaps geopandas to handle the back end, etc.). As such, I'm going to recommend you create an environment with the following libraries, but you may not end up using them all:\n",
    "\n",
    "`conda create -n lab6 python=3.6`\n",
    "\n",
    "After you've created and activated that environment, install the following:\n",
    "`conda install -c esri arcgis`\n",
    "\n",
    "`conda install -c conda-forge geopandas jupyter folium fiona tweepy geopy`\n",
    "\n",
    "You should recognize most of those libraries, but the last two are new. I am using [tweepy](http://www.tweepy.org/) to access the Twitter API, there are lots of other libraries. A popular one you might use is [TwitterSearch](https://pypi.python.org/pypi/TwitterSearch/). Additionally, [geopy](https://pypi.python.org/pypi/TwitterSearch/) is a geocoding library for python. Again, lots of these exist and you are free to find one that works best for you; however, your examples will be using these libraries."
   ]
  },
  {
   "cell_type": "markdown",
   "metadata": {},
   "source": [
    "### Now, let's get the required authorizations to use the Twitter API\n",
    "\n",
    "First, you need a Twitter account. You don't have to ever use it outside of this class and I am *definitively not endorsing Twitter in any way*. They have a free, well-documented API that you can use, that's it.\n",
    "\n",
    "Once you have an account, [go here](https://apps.twitter.com/) and create a new application. Fill in the appropriate information, for a 'website' link to your github account. You can ignore the Callback URL for this use.\n",
    "\n",
    "After you have created the application, page over to your **Keys and Access Tokens**. You are going to need to find: A Consumer Key, a Consumer Secret, an Access Token, and an Access Token Secret.\n",
    "\n",
    "Your Consumer Key and your Consumer Secret are listed in your **Keys and Access Tokens** section. You can also **create your access token** there as well.\n",
    "\n",
    "These four codes are a way for Twitter to keep track of who is accessing their API, when, and to do what.\n",
    "\n",
    "#### Let's see if this worked.\n"
   ]
  },
  {
   "cell_type": "code",
   "execution_count": 23,
   "metadata": {},
   "outputs": [
    {
     "name": "stdout",
     "output_type": "stream",
     "text": [
      "[Status(_api=<tweepy.api.API object at 0x1067562b0>, _json={'created_at': 'Mon Jun 26 05:18:28 +0000 2017', 'id': 879207209694932992, 'id_str': '879207209694932992', 'text': 'But it is not the least idea of the extent of vigilance and attention on the part of the capital-value for the individual capitalist.', 'truncated': False, 'entities': {'hashtags': [], 'symbols': [], 'user_mentions': [], 'urls': []}, 'source': '<a href=\"http://twitter.com/marxbot1\" rel=\"nofollow\">Marxbot15</a>', 'in_reply_to_status_id': None, 'in_reply_to_status_id_str': None, 'in_reply_to_user_id': None, 'in_reply_to_user_id_str': None, 'in_reply_to_screen_name': None, 'user': {'id': 830247048414842880, 'id_str': '830247048414842880', 'name': 'Marxbot1', 'screen_name': 'marxbot1', 'location': '', 'description': \"I'm a markov chain based bot trained on Marx's works. I'll tweet on my own or respond to your tweets\", 'url': None, 'entities': {'description': {'urls': []}}, 'protected': False, 'followers_count': 20, 'friends_count': 0, 'listed_count': 0, 'created_at': 'Sat Feb 11 02:48:16 +0000 2017', 'favourites_count': 1, 'utc_offset': None, 'time_zone': None, 'geo_enabled': False, 'verified': False, 'statuses_count': 150, 'lang': 'en', 'contributors_enabled': False, 'is_translator': False, 'is_translation_enabled': False, 'profile_background_color': 'F5F8FA', 'profile_background_image_url': None, 'profile_background_image_url_https': None, 'profile_background_tile': False, 'profile_image_url': 'http://pbs.twimg.com/profile_images/830286452357357568/PerSnpxL_normal.jpg', 'profile_image_url_https': 'https://pbs.twimg.com/profile_images/830286452357357568/PerSnpxL_normal.jpg', 'profile_link_color': '1DA1F2', 'profile_sidebar_border_color': 'C0DEED', 'profile_sidebar_fill_color': 'DDEEF6', 'profile_text_color': '333333', 'profile_use_background_image': True, 'has_extended_profile': True, 'default_profile': True, 'default_profile_image': False, 'following': False, 'follow_request_sent': False, 'notifications': False, 'translator_type': 'none'}, 'geo': None, 'coordinates': None, 'place': None, 'contributors': None, 'is_quote_status': False, 'retweet_count': 0, 'favorite_count': 0, 'favorited': False, 'retweeted': False, 'lang': 'en'}, created_at=datetime.datetime(2017, 6, 26, 5, 18, 28), id=879207209694932992, id_str='879207209694932992', text='But it is not the least idea of the extent of vigilance and attention on the part of the capital-value for the individual capitalist.', truncated=False, entities={'hashtags': [], 'symbols': [], 'user_mentions': [], 'urls': []}, source='Marxbot15', source_url='http://twitter.com/marxbot1', in_reply_to_status_id=None, in_reply_to_status_id_str=None, in_reply_to_user_id=None, in_reply_to_user_id_str=None, in_reply_to_screen_name=None, author=User(_api=<tweepy.api.API object at 0x1067562b0>, _json={'id': 830247048414842880, 'id_str': '830247048414842880', 'name': 'Marxbot1', 'screen_name': 'marxbot1', 'location': '', 'description': \"I'm a markov chain based bot trained on Marx's works. I'll tweet on my own or respond to your tweets\", 'url': None, 'entities': {'description': {'urls': []}}, 'protected': False, 'followers_count': 20, 'friends_count': 0, 'listed_count': 0, 'created_at': 'Sat Feb 11 02:48:16 +0000 2017', 'favourites_count': 1, 'utc_offset': None, 'time_zone': None, 'geo_enabled': False, 'verified': False, 'statuses_count': 150, 'lang': 'en', 'contributors_enabled': False, 'is_translator': False, 'is_translation_enabled': False, 'profile_background_color': 'F5F8FA', 'profile_background_image_url': None, 'profile_background_image_url_https': None, 'profile_background_tile': False, 'profile_image_url': 'http://pbs.twimg.com/profile_images/830286452357357568/PerSnpxL_normal.jpg', 'profile_image_url_https': 'https://pbs.twimg.com/profile_images/830286452357357568/PerSnpxL_normal.jpg', 'profile_link_color': '1DA1F2', 'profile_sidebar_border_color': 'C0DEED', 'profile_sidebar_fill_color': 'DDEEF6', 'profile_text_color': '333333', 'profile_use_background_image': True, 'has_extended_profile': True, 'default_profile': True, 'default_profile_image': False, 'following': False, 'follow_request_sent': False, 'notifications': False, 'translator_type': 'none'}, id=830247048414842880, id_str='830247048414842880', name='Marxbot1', screen_name='marxbot1', location='', description=\"I'm a markov chain based bot trained on Marx's works. I'll tweet on my own or respond to your tweets\", url=None, entities={'description': {'urls': []}}, protected=False, followers_count=20, friends_count=0, listed_count=0, created_at=datetime.datetime(2017, 2, 11, 2, 48, 16), favourites_count=1, utc_offset=None, time_zone=None, geo_enabled=False, verified=False, statuses_count=150, lang='en', contributors_enabled=False, is_translator=False, is_translation_enabled=False, profile_background_color='F5F8FA', profile_background_image_url=None, profile_background_image_url_https=None, profile_background_tile=False, profile_image_url='http://pbs.twimg.com/profile_images/830286452357357568/PerSnpxL_normal.jpg', profile_image_url_https='https://pbs.twimg.com/profile_images/830286452357357568/PerSnpxL_normal.jpg', profile_link_color='1DA1F2', profile_sidebar_border_color='C0DEED', profile_sidebar_fill_color='DDEEF6', profile_text_color='333333', profile_use_background_image=True, has_extended_profile=True, default_profile=True, default_profile_image=False, following=False, follow_request_sent=False, notifications=False, translator_type='none'), user=User(_api=<tweepy.api.API object at 0x1067562b0>, _json={'id': 830247048414842880, 'id_str': '830247048414842880', 'name': 'Marxbot1', 'screen_name': 'marxbot1', 'location': '', 'description': \"I'm a markov chain based bot trained on Marx's works. I'll tweet on my own or respond to your tweets\", 'url': None, 'entities': {'description': {'urls': []}}, 'protected': False, 'followers_count': 20, 'friends_count': 0, 'listed_count': 0, 'created_at': 'Sat Feb 11 02:48:16 +0000 2017', 'favourites_count': 1, 'utc_offset': None, 'time_zone': None, 'geo_enabled': False, 'verified': False, 'statuses_count': 150, 'lang': 'en', 'contributors_enabled': False, 'is_translator': False, 'is_translation_enabled': False, 'profile_background_color': 'F5F8FA', 'profile_background_image_url': None, 'profile_background_image_url_https': None, 'profile_background_tile': False, 'profile_image_url': 'http://pbs.twimg.com/profile_images/830286452357357568/PerSnpxL_normal.jpg', 'profile_image_url_https': 'https://pbs.twimg.com/profile_images/830286452357357568/PerSnpxL_normal.jpg', 'profile_link_color': '1DA1F2', 'profile_sidebar_border_color': 'C0DEED', 'profile_sidebar_fill_color': 'DDEEF6', 'profile_text_color': '333333', 'profile_use_background_image': True, 'has_extended_profile': True, 'default_profile': True, 'default_profile_image': False, 'following': False, 'follow_request_sent': False, 'notifications': False, 'translator_type': 'none'}, id=830247048414842880, id_str='830247048414842880', name='Marxbot1', screen_name='marxbot1', location='', description=\"I'm a markov chain based bot trained on Marx's works. I'll tweet on my own or respond to your tweets\", url=None, entities={'description': {'urls': []}}, protected=False, followers_count=20, friends_count=0, listed_count=0, created_at=datetime.datetime(2017, 2, 11, 2, 48, 16), favourites_count=1, utc_offset=None, time_zone=None, geo_enabled=False, verified=False, statuses_count=150, lang='en', contributors_enabled=False, is_translator=False, is_translation_enabled=False, profile_background_color='F5F8FA', profile_background_image_url=None, profile_background_image_url_https=None, profile_background_tile=False, profile_image_url='http://pbs.twimg.com/profile_images/830286452357357568/PerSnpxL_normal.jpg', profile_image_url_https='https://pbs.twimg.com/profile_images/830286452357357568/PerSnpxL_normal.jpg', profile_link_color='1DA1F2', profile_sidebar_border_color='C0DEED', profile_sidebar_fill_color='DDEEF6', profile_text_color='333333', profile_use_background_image=True, has_extended_profile=True, default_profile=True, default_profile_image=False, following=False, follow_request_sent=False, notifications=False, translator_type='none'), geo=None, coordinates=None, place=None, contributors=None, is_quote_status=False, retweet_count=0, favorite_count=0, favorited=False, retweeted=False, lang='en')]\n"
     ]
    }
   ],
   "source": [
    "import tweepy\n",
    "\n",
    "CK = '[CONSUMER KEY]'\n",
    "CS = '[CONSUMER SECRET]'\n",
    "AK = '[ACCESS KEY]'\n",
    "AS = '[ACCESS SECRET]'\n",
    "\n",
    "auth = tweepy.OAuthHandler(CK, CS)\n",
    "auth.set_access_token(AK, AS)\n",
    "\n",
    "api = tweepy.API(auth)\n",
    "\n",
    "\n",
    "print(api.user_timeline(id='marxbot1', count=1)) #This simply pulls the last tweet from an account"
   ]
  },
  {
   "cell_type": "markdown",
   "metadata": {},
   "source": [
    "### If that ran successfully, you should have a giant mess of text.\n",
    "\n",
    "That's the data that accompanies a single tweet. Interesting, huh? Check out the [reference docs](http://tweepy.readthedocs.io/en/v3.5.0/api.html#) for tweepy and spend some time experimenting if you want.\n",
    "\n",
    "Here, I'll pull the same tweet as above, but this time I'm **only** going to print out the text property of the Status object and then check for some location information.\n",
    "\n"
   ]
  },
  {
   "cell_type": "code",
   "execution_count": 30,
   "metadata": {},
   "outputs": [
    {
     "name": "stdout",
     "output_type": "stream",
     "text": [
      "But it is not the least idea of the extent of vigilance and attention on the part of the capital-value for the individual capitalist.\n",
      "None\n",
      "None\n"
     ]
    }
   ],
   "source": [
    "#Note: First I specify which list object I want, then I pull a property from it.\n",
    "\n",
    "print(api.user_timeline(id='marxbot1', count=1)[0].text)\n",
    "\n",
    "#Now, let's see if there's some lat and long associated with the tweet\n",
    "print(api.user_timeline(id='marxbot1', count=1)[0].geo)\n",
    "print(api.user_timeline(id='marxbot1', count=1)[0].coordinates)"
   ]
  },
  {
   "cell_type": "markdown",
   "metadata": {},
   "source": [
    "### (Un)fortunately, most tweets don't actually have location information associated with them. \n",
    "\n",
    "There's been *a lot* written about this and the numbers vary from under 5% to 20% or so of tweets. Additionally, it's been argued that upwards of 60% of tweets *can* have some location inferred due to language use, topic, etc.\n",
    "\n",
    "That's all interesting (and please do email me for citations if you so desire); however, it's also kind of besides the point here. We're interested in learning how to interact with APIs and process data, we can argue about the ephemerality of said data another day.\n",
    "\n",
    "Let's query some topic of interest and see if we can find some spatial data.\n",
    "\n",
    "Now, it's important to note that Twitter has both a search and a streaming API. So far, we've been using the search API - we search for existing tweets. I am now going to switch to the streaming one; **however**, lab6scratch.py has an example of how to step through search API results.\n"
   ]
  },
  {
   "cell_type": "code",
   "execution_count": null,
   "metadata": {},
   "outputs": [
    {
     "name": "stdout",
     "output_type": "stream",
     "text": [
      "TrendsSeattle tweeted #purplereign is now trending in #Seattle\n",
      "\n",
      "https://t.co/ZIMiMrprQB https://t.co/P0MORSBZjT\n",
      "SideKickSaba tweeted @RyanLiberty92 Yep. Gods, do you wake up every morning and try to dress and style your makeup and hair and stuff ev… https://t.co/EOrJwk1a7U\n",
      "notmarcocollins tweeted I’ve always wondered if professional journalists have severe inner conflict when they dumb down their social media… https://t.co/y6E0RXfgkf\n",
      "coryroy1 tweeted Heck yeah you will! ⚾️⚾️ https://t.co/v2VDAeLw9l\n",
      "SSFCFOTY13 tweeted @Dannicus523 What’s gally?\n",
      "JMile305 tweeted @jerm_26 Good point, we fired a lawn company after video showing one of his dudes peeking through our windows and t… https://t.co/GEK5vy5aO1\n",
      "jeffsand tweeted @drewdavies @Azure We are definitely working on this and agree we can improve that. Nothing to announce today, but working on it.\n",
      "hannahdewhirst_ tweeted STRAIGHT CHILLING\n",
      "Dretti_winning tweeted @lindsey_kayy_ Where 👀\n",
      "KaliyahMckelvey tweeted You can't help someone that doesn't want to be helped 🤷🏽‍♀️\n",
      "spoiler_country tweeted lhttps://offspring.lifehacker.com/comic-books-are-books-1822641467\n",
      "msespe53 tweeted @hirschA8720 @ScottPresler Dumbest of the dumb for sure!!! 🤪\n",
      "yoi_hibino tweeted これは多分自分の居場所確認行為かと．SNS中毒と同じなんじゃないかと思った https://t.co/rVuUtahcr3\n",
      "JMile305 tweeted @TedWellsMustach @jerm_26 Ugh that's the worst. Can't trust anyone these days!\n",
      "heine_geary tweeted @BigRedSepulveda @KimBo747 @chrislhayes Or the horizontal tango with stormy. Also known as locomotor ataxia in donny's case.\n",
      "tmj_sea_mgmt tweeted This #job might be a great fit for you: Store Manager - Store Director - https://t.co/8yFBfXKb1H #BusinessMgmt… https://t.co/mx9ugI7FKb\n",
      "aloofloofah tweeted brevs,,,,\n",
      "\n",
      "let's cuck 'the #zucc' 👹👿☠️ https://t.co/tPPFKDjRm2\n",
      "C_Tobin tweeted Great continuing thread here going over the new NASL lawsuit against USSF. https://t.co/JCZrRhT67e\n",
      "tmj_sea_cstsrv tweeted Join the Starbucks team! See our latest #job opening here: https://t.co/zhzfM003sg #CustomerService #Redmond, WA #Hiring #CareerArc\n",
      "erikacode tweeted @PinkNokiaa  https://t.co/U7r8eF0IId\n",
      "CurarCandelario tweeted How about not. https://t.co/FRU3AfqdWh\n",
      "nephsies tweeted @thanksdfg What’s peng (sorry)\n",
      "Ralph2timez tweeted @x_scillaj Say less 💪🏾😘\n",
      "GeoffreyPotter tweeted Abso-fuckin'-lutely not, you psychopath. https://t.co/jKhaPXYbCf\n",
      "matthewd_wilson tweeted 24hrs later... https://t.co/12qHJGdbaY\n",
      "tmj_sea_constru tweeted See our latest #Seattle, WA #job and click to apply: Director of Construction - https://t.co/lT5aeDuImi #Construction #Hiring #CareerArc\n",
      "SSFCFOTY13 tweeted @Dannicus523 Got it. Nerd on\n",
      "IraqVeteran_ tweeted Trump seldom looked to his right to address the Democrats during the SOTU speech. https://t.co/2I55N6FdA7\n",
      "jakepullen0 tweeted @AshleyKorslien if they  want to keep on block me back an forth let them but i am done on https://t.co/KrmvZmp6mD f… https://t.co/bq2vUJ4esE\n",
      "ggxgracie tweeted I fucking love Kathy Bates\n",
      "CathyWentzel tweeted Oh don't worry we'll have a parade, when him and his entire family is in prison. https://t.co/BHtiXg8gig\n",
      "turneresq tweeted Okay, reading the next section, I see why NASL made that claim. Prepare for another doozy. 😬😬 #NASL v. #USSF\n",
      "aloofloofah tweeted (((\"pediatrician\")))\n",
      "msespe53 tweeted Hear! Hear! 👍🏻 https://t.co/AXTal1tlLQ\n",
      "jennife80278138 tweeted @realDonaldTrump @POTUS   As A Tax Paying Citizen and I DEMAND YOU CALLOFF THIS MILITARY PARADE! You are WASTING OUR TAX DOLLARS!!!\n",
      "Dretti_winning tweeted I’m tryna go to the gym 🙄 I been eating all day lol\n",
      "JMile305 tweeted @BobUgi14 I'm jealous of your bill\n",
      "frogface6 tweeted @Zakuani11 @SoundersFC How are the injuries? All healthy again?\n",
      "SideKickSaba tweeted @aa_powell Thank you. I blocked him ♥️\n",
      "tmj_sea_banking tweeted Can you recommend anyone for this #job? Premier Banker - Unlicensed 1 - https://t.co/3Z1CAiFMJB #Banking #Seattle, WA #Hiring #CareerArc\n",
      "MikaShay32 tweeted WTAF! We are slowly turning into a dictatorship. WTH is wrong with the Republicans? 🤬🤬😡😠 #Trump #Russia https://t.co/TRKF2FAl4n\n",
      "IraqVeteran_ tweeted Trump seldom looked to his right to address the Democrats during the SOTU speech. https://t.co/yIZynm1mDk\n",
      "CarolineKay11 tweeted #SuperBowl #events https://t.co/sHAcy9v5AU\n",
      "Tuxedokitty tweeted @Rubberasylum The Aristocrats!\n",
      "ShowferTV tweeted @ErinLea7 LOL\n",
      "Mossback tweeted @MattOswaltVA I’m glad they shortened it from Stormi Lady Doritos Release The Memo Jenner.\n",
      "CurarCandelario tweeted @grimewxxxd Those lashes!😍\n",
      "Topdjian_ tweeted So you’re telling me they didn’t charge me with anything and y’all still going to put a police hold on my account. Suck my dick\n",
      "nxsteele94 tweeted knew I was getting older when I started forgetting my phone places\n"
     ]
    }
   ],
   "source": [
    "#We're going to set up a couple of tricks here\n",
    "\n",
    "CK = '[CONSUMER KEY]'\n",
    "CS = '[CONSUMER SECRET]'\n",
    "AK = '[ACCESS KEY]'\n",
    "AS = '[ACCESS SECRET]'\n",
    "\n",
    "auth = tweepy.OAuthHandler(CK, CS)\n",
    "auth.set_access_token(AK, AS)\n",
    "\n",
    "#By setting these values to true, our code will automatically wait as it hits its limits\n",
    "api = tweepy.API(auth, wait_on_rate_limit=True, wait_on_rate_limit_notify=True)\n",
    "\n",
    "#Now I'm going to set up a stream listener\n",
    "class CustomStreamListener(tweepy.StreamListener):\n",
    "    def on_status(self, status):\n",
    "        text = status.text\n",
    "        user = status.author.screen_name\n",
    "        print('%s tweeted %s' % (user, text))\n",
    "    \n",
    "    \n",
    "while True:\n",
    "    try:\n",
    "        stream = tweepy.Stream(auth=api.auth, listener=CustomStreamListener())\n",
    "        #This next line puts a bounding box roughly around Seattle/Tacoma.\n",
    "        #You start in the southwest and then go to the northeast\n",
    "        #The format is longitude, then latitude... cuz Twitter\n",
    "        stream.filter(locations=[-122.626, 47.113, -121.754,47.87])\n",
    "    except Exception as e:\n",
    "        print(e)\n",
    "        print('Trying to continue')\n",
    "        continue\n",
    "        "
   ]
  },
  {
   "cell_type": "markdown",
   "metadata": {},
   "source": [
    "### If that all worked, you now have a listener that will pull tweets from a bounded area you define.\n",
    "\n",
    "**Cool**. Well, I think so. But, even though we're now pulling tweets *from* a location, you aren't saving their spatial data... *quite yet*.\n",
    "\n",
    "That's where the lab actually begins.\n",
    "\n",
    "### Question 1: Where the tweets at?\n",
    "\n",
    "Using the example code above **and** what you'll find in the lab 6 scratchpad, start pulling the spatial information from the tweets in question. Create a 'file' that contains a tweet's author (account name), its text, and the location from which it came (in latitude and longitude). This 'file' can be in a number of formats (geojson, txt, csv, etc.). \n",
    "\n",
    "Bear in mind, there are *a few* ways you can pull location information. You can find the [twitter api documentation here](https://developer.twitter.com/en/docs/tutorials/filtering-tweets-by-location).\n",
    "\n",
    "Some tweets will come from a 'location' that is a named place. In order to handle those, you will need to geocode the information. The function below takes a string and returns latitude and longitude. Start there."
   ]
  },
  {
   "cell_type": "code",
   "execution_count": 55,
   "metadata": {},
   "outputs": [
    {
     "name": "stdout",
     "output_type": "stream",
     "text": [
      "(47.2452, -122.4427)\n"
     ]
    }
   ],
   "source": [
    "from geopy import geocoders\n",
    "\n",
    "'''How might you improve this function?\n",
    "Right now, it only calls Nominatim and if there is an error, it will break.\n",
    "What if you caught errors and tried other geocoders?\n",
    "https://geopy.readthedocs.io/en/1.10.0/\n",
    "'''\n",
    "def geo(location):\n",
    "    g = geocoders.Nominatim() #I use Nominatim, there are many others\n",
    "    loc = g.geocode(location)\n",
    "    return loc.latitude, loc.longitude\n",
    "\n",
    "print(geo('1900 Commerce St, Tacoma, WA'))\n"
   ]
  },
  {
   "cell_type": "markdown",
   "metadata": {},
   "source": [
    "### Question 2: Tweets on a map.\n",
    "\n",
    "Now that you have a 'file' (or a script that will extract author, text, and location from tweets), let's make a map.\n",
    "\n",
    "Using Folium, ArcGIS API for Python, GeoPandas, or Arcpy, create a map from your file. Make sure you accumulate enough tweets (let's say 100 or so) before you create the map.\n",
    "\n",
    "Next week, we'll get into how to update the map on the fly and make it more interactive; for now, just make sure you can query some tweets, parse the data, put that data into a GIS of some form."
   ]
  },
  {
   "cell_type": "code",
   "execution_count": null,
   "metadata": {},
   "outputs": [],
   "source": []
  },
  {
   "cell_type": "markdown",
   "metadata": {},
   "source": [
    "### Bonus: Did I say you could use any 'GIS,' how about all of them?\n",
    "\n",
    "Create a script that allows the user to specify in what format he would like the resulting map (ArcGIS API, Shapefile, GeoPandas, or Folium) +1 point for each additional format (**total possible bonus: +3**)"
   ]
  },
  {
   "cell_type": "code",
   "execution_count": null,
   "metadata": {},
   "outputs": [],
   "source": []
  }
 ],
 "metadata": {
  "kernelspec": {
   "display_name": "Python 3",
   "language": "python",
   "name": "python3"
  },
  "language_info": {
   "codemirror_mode": {
    "name": "ipython",
    "version": 3
   },
   "file_extension": ".py",
   "mimetype": "text/x-python",
   "name": "python",
   "nbconvert_exporter": "python",
   "pygments_lexer": "ipython3",
   "version": "3.6.4"
  }
 },
 "nbformat": 4,
 "nbformat_minor": 2
}
